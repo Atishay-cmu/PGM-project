{
  "cells": [
    {
      "cell_type": "code",
      "execution_count": 1,
      "metadata": {
        "id": "JT_LYPYsIfyM",
        "colab": {
          "base_uri": "https://localhost:8080/"
        },
        "outputId": "76d0c308-eba4-4777-f7c5-a7385f723396"
      },
      "outputs": [
        {
          "output_type": "stream",
          "name": "stdout",
          "text": [
            "Drive already mounted at /content/gdrive; to attempt to forcibly remount, call drive.mount(\"/content/gdrive\", force_remount=True).\n"
          ]
        }
      ],
      "source": [
        "from google.colab import drive\n",
        "drive.mount('/content/gdrive')"
      ]
    },
    {
      "cell_type": "code",
      "execution_count": 2,
      "metadata": {
        "id": "pR6E2BKQ5T0Z",
        "colab": {
          "base_uri": "https://localhost:8080/"
        },
        "outputId": "cba40451-c5e1-4017-fa24-55dfc9d4678b"
      },
      "outputs": [
        {
          "output_type": "stream",
          "name": "stdout",
          "text": [
            "/content/gdrive/My Drive/pgm_project\n"
          ]
        }
      ],
      "source": [
        "%cd /content/gdrive/My Drive/pgm_project"
      ]
    },
    {
      "cell_type": "code",
      "execution_count": 3,
      "metadata": {
        "id": "KkYeIkYcSjQT"
      },
      "outputs": [],
      "source": [
        "%%capture\n",
        "!pip install ray\n",
        "!pip install wandb"
      ]
    },
    {
      "cell_type": "code",
      "execution_count": null,
      "metadata": {
        "id": "f1d0LducaW-W"
      },
      "outputs": [],
      "source": [
        "%%capture\n",
        "!pip install git+https://github.com/oxwhirl/smac.git\n",
        "# Uncomment the line below to use dev branch of pysc2\n",
        "!pip install git+https://github.com/deepmind/pysc2.git@dev\n",
        "\n",
        "#Note: Colab does not have an X Server, installing a virtual one\n",
        "# !pip install -q pysc2 pyvirtualdisplay\n",
        "# !apt-get install -y xvfb python-opengl mesa-utils libosmesa6-dev xorg x11-xserver-utils\n",
        "!unzip -P iagreetotheeula -oq Starcraft/SC2.4.0.2.zip -d ~\n",
        "!unzip -P iagreetotheeula -oq Starcraft/SMAC_Maps.zip -d ~/StarCraftII/Maps/"
      ]
    },
    {
      "cell_type": "code",
      "execution_count": 5,
      "metadata": {
        "id": "Jz4xzz8I6qFm"
      },
      "outputs": [],
      "source": [
        "%%capture\n",
        "!pip install flatland-rl==3.0.0"
      ]
    },
    {
      "cell_type": "code",
      "execution_count": 6,
      "metadata": {
        "id": "q9xsAqhRry8X"
      },
      "outputs": [],
      "source": [
        "%%capture\n",
        "!pip install flatland-rl==2.2.2"
      ]
    },
    {
      "cell_type": "code",
      "execution_count": 7,
      "metadata": {
        "colab": {
          "base_uri": "https://localhost:8080/"
        },
        "id": "OE1jhHYhBMbr",
        "outputId": "4c22ca69-bf7c-45bf-8711-f1f9c8f5a5e3"
      },
      "outputs": [
        {
          "output_type": "stream",
          "name": "stdout",
          "text": [
            "Reading package lists... Done\n",
            "Building dependency tree       \n",
            "Reading state information... Done\n",
            "Note, selecting 'libtcmalloc-minimal4' for glob 'libtcmalloc*'\n",
            "The following package was automatically installed and is no longer required:\n",
            "  libunwind8\n",
            "Use 'apt autoremove' to remove it.\n",
            "The following packages will be REMOVED:\n",
            "  google-perftools libgoogle-perftools4 libtcmalloc-minimal4\n",
            "0 upgraded, 0 newly installed, 3 to remove and 24 not upgraded.\n",
            "After this operation, 1,681 kB disk space will be freed.\n",
            "(Reading database ... 122349 files and directories currently installed.)\n",
            "Removing google-perftools (2.7-1ubuntu2) ...\n",
            "Removing libgoogle-perftools4:amd64 (2.7-1ubuntu2) ...\n",
            "Removing libtcmalloc-minimal4:amd64 (2.7-1ubuntu2) ...\n",
            "Processing triggers for man-db (2.9.1-1) ...\n",
            "Processing triggers for libc-bin (2.31-0ubuntu9.9) ...\n"
          ]
        }
      ],
      "source": [
        "!apt-get remove libtcmalloc*"
      ]
    },
    {
      "cell_type": "code",
      "source": [
        "!python3 train.py --env starcraft --n_workers 1  --env_name  2s_vs_1sc"
      ],
      "metadata": {
        "colab": {
          "base_uri": "https://localhost:8080/"
        },
        "id": "ftELuOXshZdD",
        "outputId": "3bcac70a-1e8b-42c8-9303-d571918463b9"
      },
      "execution_count": 8,
      "outputs": [
        {
          "output_type": "stream",
          "name": "stdout",
          "text": [
            "\u001b[34m\u001b[1mwandb\u001b[0m: (1) Create a W&B account\n",
            "\u001b[34m\u001b[1mwandb\u001b[0m: (2) Use an existing W&B account\n",
            "\u001b[34m\u001b[1mwandb\u001b[0m: (3) Don't visualize my results\n",
            "\u001b[34m\u001b[1mwandb\u001b[0m: Enter your choice: 3\n",
            "\u001b[34m\u001b[1mwandb\u001b[0m: You chose \"Don't visualize my results\"\n",
            "\u001b[34m\u001b[1mwandb\u001b[0m: Tracking run with wandb version 0.14.2\n",
            "\u001b[34m\u001b[1mwandb\u001b[0m: W&B syncing is set to \u001b[1m`offline`\u001b[0m in this directory.  \n",
            "\u001b[34m\u001b[1mwandb\u001b[0m: Run \u001b[1m`wandb online`\u001b[0m or set \u001b[1mWANDB_MODE=online\u001b[0m to enable cloud syncing.\n",
            "Traceback (most recent call last):\n",
            "  File \"/content/gdrive/MyDrive/pgm_project/train.py\", line 96, in <module>\n",
            "    train_dreamer(exp, n_workers=args.n_workers)\n",
            "  File \"/content/gdrive/MyDrive/pgm_project/train.py\", line 23, in train_dreamer\n",
            "    runner.run(exp.steps, exp.episodes)\n",
            "  File \"/content/gdrive/MyDrive/pgm_project/agent/runners/DreamerRunner.py\", line 50, in run\n",
            "    rollout, info = self.worker.run(self.learner.model, self.learner.action_model, self.learner.actor)\n",
            "  File \"/content/gdrive/MyDrive/pgm_project/agent/workers/DreamerWorker.py\", line 90, in run\n",
            "    state = self._wrap(self.env.reset())\n",
            "  File \"/content/gdrive/MyDrive/pgm_project/env/flatland/EnvCurriculum.py\", line 36, in _reset\n",
            "    return self.env.reset()\n",
            "  File \"/content/gdrive/MyDrive/pgm_project/env/starcraft/StarCraft.py\", line 23, in reset\n",
            "    self.env.reset()\n",
            "  File \"/usr/local/lib/python3.9/dist-packages/smac/env/starcraft2/starcraft2.py\", line 403, in reset\n",
            "    self._launch()\n",
            "  File \"/usr/local/lib/python3.9/dist-packages/smac/env/starcraft2/starcraft2.py\", line 318, in _launch\n",
            "    self._run_config = run_configs.get(version=self.game_version)\n",
            "  File \"/usr/local/lib/python3.9/dist-packages/pysc2/run_configs/__init__.py\", line 36, in get\n",
            "    return max(configs.values(), key=lambda c: c.priority())(version=version)\n",
            "  File \"/usr/local/lib/python3.9/dist-packages/pysc2/run_configs/platforms.py\", line 175, in __init__\n",
            "    super(Linux, self).__init__(base_dir, \"SC2_x64\", version=version, env=env)\n",
            "  File \"/usr/local/lib/python3.9/dist-packages/pysc2/run_configs/platforms.py\", line 57, in __init__\n",
            "    super(LocalBase, self).__init__(\n",
            "  File \"/usr/local/lib/python3.9/dist-packages/pysc2/run_configs/lib.py\", line 108, in __init__\n",
            "    self.version = self._get_version(version)\n",
            "  File \"/usr/local/lib/python3.9/dist-packages/pysc2/run_configs/lib.py\", line 216, in _get_version\n",
            "    versions = self.get_versions(containing=game_version)\n",
            "  File \"/usr/local/lib/python3.9/dist-packages/pysc2/run_configs/platforms.py\", line 90, in get_versions\n",
            "    for v in os.listdir(versions_dir)\n",
            "FileNotFoundError: [Errno 2] No such file or directory: '/root/StarCraftII/Versions'\n",
            "\u001b[34m\u001b[1mwandb\u001b[0m: Waiting for W&B process to finish... \u001b[31m(failed 1).\u001b[0m\n",
            "\u001b[34m\u001b[1mwandb\u001b[0m: You can sync this run to the cloud by running:\n",
            "\u001b[34m\u001b[1mwandb\u001b[0m: \u001b[1mwandb sync wandb/wandb/offline-run-20230419_005333-s7a4q2ui\u001b[0m\n",
            "\u001b[34m\u001b[1mwandb\u001b[0m: Find logs at: \u001b[35m\u001b[1mwandb/wandb/offline-run-20230419_005333-s7a4q2ui/logs\u001b[0m\n"
          ]
        }
      ]
    },
    {
      "cell_type": "code",
      "source": [],
      "metadata": {
        "id": "L5qVzZlHvxJa"
      },
      "execution_count": 8,
      "outputs": []
    }
  ],
  "metadata": {
    "accelerator": "GPU",
    "colab": {
      "provenance": []
    },
    "kernelspec": {
      "display_name": "Python 3",
      "name": "python3"
    },
    "language_info": {
      "name": "python"
    },
    "gpuClass": "standard"
  },
  "nbformat": 4,
  "nbformat_minor": 0
}