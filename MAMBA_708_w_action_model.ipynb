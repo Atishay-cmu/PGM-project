{
  "cells": [
    {
      "cell_type": "code",
      "execution_count": 1,
      "metadata": {
        "id": "JT_LYPYsIfyM",
        "colab": {
          "base_uri": "https://localhost:8080/"
        },
        "outputId": "d23f3ce5-93a4-449d-9163-e98e37671d54"
      },
      "outputs": [
        {
          "output_type": "stream",
          "name": "stdout",
          "text": [
            "Drive already mounted at /content/gdrive; to attempt to forcibly remount, call drive.mount(\"/content/gdrive\", force_remount=True).\n"
          ]
        }
      ],
      "source": [
        "from google.colab import drive\n",
        "drive.mount('/content/gdrive')"
      ]
    },
    {
      "cell_type": "code",
      "execution_count": 2,
      "metadata": {
        "id": "pR6E2BKQ5T0Z",
        "colab": {
          "base_uri": "https://localhost:8080/"
        },
        "outputId": "21e37032-26d9-4922-f5a8-4016fa2f3c16"
      },
      "outputs": [
        {
          "output_type": "stream",
          "name": "stdout",
          "text": [
            "/content/gdrive/MyDrive/mamba_708_categ_action_model\n"
          ]
        }
      ],
      "source": [
        "%cd /content/gdrive/MyDrive/mamba_708_categ_action_model"
      ]
    },
    {
      "cell_type": "code",
      "execution_count": 3,
      "metadata": {
        "id": "KkYeIkYcSjQT"
      },
      "outputs": [],
      "source": [
        "%%capture\n",
        "!pip install ray\n",
        "!pip install wandb"
      ]
    },
    {
      "cell_type": "code",
      "execution_count": 4,
      "metadata": {
        "id": "f1d0LducaW-W"
      },
      "outputs": [],
      "source": [
        "%%capture\n",
        "!pip install git+https://github.com/oxwhirl/smac.git\n",
        "# Uncomment the line below to use dev branch of pysc2\n",
        "!pip install git+https://github.com/deepmind/pysc2.git@dev\n",
        "\n",
        "#Note: Colab does not have an X Server, installing a virtual one\n",
        "# !pip install -q pysc2 pyvirtualdisplay\n",
        "# !apt-get install -y xvfb python-opengl mesa-utils libosmesa6-dev xorg x11-xserver-utils\n",
        "!unzip -P iagreetotheeula -oq Starcraft/SC2.4.0.2.zip -d ~\n",
        "!unzip -P iagreetotheeula -oq Starcraft/SMAC_Maps.zip -d ~/StarCraftII/Maps/"
      ]
    },
    {
      "cell_type": "code",
      "execution_count": 5,
      "metadata": {
        "id": "Jz4xzz8I6qFm"
      },
      "outputs": [],
      "source": [
        "%%capture\n",
        "!pip install flatland-rl==3.0.0"
      ]
    },
    {
      "cell_type": "code",
      "execution_count": 6,
      "metadata": {
        "id": "q9xsAqhRry8X"
      },
      "outputs": [],
      "source": [
        "%%capture\n",
        "!pip install flatland-rl==2.2.2"
      ]
    },
    {
      "cell_type": "code",
      "execution_count": 7,
      "metadata": {
        "colab": {
          "base_uri": "https://localhost:8080/"
        },
        "id": "OE1jhHYhBMbr",
        "outputId": "74ef4f4b-592d-46a1-f3ff-fa08d45664a5"
      },
      "outputs": [
        {
          "output_type": "stream",
          "name": "stdout",
          "text": [
            "Reading package lists... Done\n",
            "Building dependency tree       \n",
            "Reading state information... Done\n",
            "Note, selecting 'libtcmalloc-minimal4' for glob 'libtcmalloc*'\n",
            "Package 'libtcmalloc-minimal4' is not installed, so not removed\n",
            "The following package was automatically installed and is no longer required:\n",
            "  libunwind8\n",
            "Use 'apt autoremove' to remove it.\n",
            "0 upgraded, 0 newly installed, 0 to remove and 24 not upgraded.\n"
          ]
        }
      ],
      "source": [
        "!apt-get remove libtcmalloc*"
      ]
    },
    {
      "cell_type": "code",
      "source": [
        "!python3 train.py --env starcraft --n_workers 1  --env_name  2s_vs_1sc"
      ],
      "metadata": {
        "colab": {
          "base_uri": "https://localhost:8080/"
        },
        "id": "ftELuOXshZdD",
        "outputId": "285d62f5-1171-465d-aefd-03b9347aa595"
      },
      "execution_count": null,
      "outputs": [
        {
          "output_type": "stream",
          "name": "stdout",
          "text": [
            "\u001b[34m\u001b[1mwandb\u001b[0m: Currently logged in as: \u001b[33matishayj\u001b[0m (\u001b[33mpgm_project\u001b[0m). Use \u001b[1m`wandb login --relogin`\u001b[0m to force relogin\n",
            "\u001b[34m\u001b[1mwandb\u001b[0m: Tracking run with wandb version 0.15.0\n",
            "\u001b[34m\u001b[1mwandb\u001b[0m: Run data is saved locally in \u001b[35m\u001b[1mwandb/wandb/run-20230427_220001-orng0c7g\u001b[0m\n",
            "\u001b[34m\u001b[1mwandb\u001b[0m: Run \u001b[1m`wandb offline`\u001b[0m to turn off syncing.\n",
            "\u001b[34m\u001b[1mwandb\u001b[0m: Syncing run \u001b[33msmart-silence-21\u001b[0m\n",
            "\u001b[34m\u001b[1mwandb\u001b[0m: ⭐️ View project at \u001b[34m\u001b[4mhttps://wandb.ai/pgm_project/10708_pro\u001b[0m\n",
            "\u001b[34m\u001b[1mwandb\u001b[0m: 🚀 View run at \u001b[34m\u001b[4mhttps://wandb.ai/pgm_project/10708_pro/runs/orng0c7g\u001b[0m\n",
            "Version: B59877 (SC2.4.0)\n",
            "Build: Nov 27 2017 21:52:46\n",
            "Command Line: '\"/root/StarCraftII/Versions/Base59877/SC2_x64\" -listen 127.0.0.1 -port 17095 -dataDir /root/StarCraftII/ -tempDir /tmp/sc-pvzowlv0/'\n",
            "Starting up...\n",
            "Startup Phase 1 complete\n",
            "Startup Phase 2 complete\n",
            "Creating stub renderer...\n",
            "Listening on: 127.0.0.1:17095 (17095)\n",
            "Startup Phase 3 complete. Ready for commands.\n",
            "Requesting to join a single player game\n",
            "Configuring interface options\n",
            "Configure: raw interface enabled\n",
            "Configure: feature layer interface disabled\n",
            "Configure: score interface disabled\n",
            "Configure: render interface disabled\n",
            "Entering load game phase.\n",
            "Launching next game.\n",
            "Next launch phase started: 2\n",
            "Next launch phase started: 3\n",
            "Next launch phase started: 4\n",
            "Next launch phase started: 5\n",
            "Next launch phase started: 6\n",
            "Next launch phase started: 7\n",
            "Next launch phase started: 8\n",
            "Game has started.\n",
            "Sending ResponseJoinGame\n"
          ]
        }
      ]
    },
    {
      "cell_type": "code",
      "source": [],
      "metadata": {
        "id": "L5qVzZlHvxJa"
      },
      "execution_count": null,
      "outputs": []
    }
  ],
  "metadata": {
    "accelerator": "GPU",
    "colab": {
      "provenance": []
    },
    "kernelspec": {
      "display_name": "Python 3",
      "name": "python3"
    },
    "language_info": {
      "name": "python"
    },
    "gpuClass": "standard"
  },
  "nbformat": 4,
  "nbformat_minor": 0
}